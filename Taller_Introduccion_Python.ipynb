{
  "nbformat": 4,
  "nbformat_minor": 0,
  "metadata": {
    "anaconda-cloud": {},
    "kernelspec": {
      "display_name": "Python 3",
      "language": "python",
      "name": "python3"
    },
    "language_info": {
      "codemirror_mode": {
        "name": "ipython",
        "version": 3
      },
      "file_extension": ".py",
      "mimetype": "text/x-python",
      "name": "python",
      "nbconvert_exporter": "python",
      "pygments_lexer": "ipython3",
      "version": "3.6.0"
    },
    "colab": {
      "provenance": [],
      "toc_visible": true
    }
  },
  "cells": [
    {
      "cell_type": "markdown",
      "source": [
        "<center><b>© Content is made available under the CC-BY-NC-ND 4.0 license. Christian Lopez, lopezbec@lafayette.edu<center>"
      ],
      "metadata": {
        "id": "81S9KKkBRVtc"
      }
    },
    {
      "cell_type": "markdown",
      "source": [
        "\n",
        "<table align=\"left\">\n",
        "  <td>\n",
        "    <a href=\"https://colab.research.google.com/github/lopezbec/intro_python_notebooks/blob/main/Python_Basics.ipynb\" target=\"_parent\"><img src=\"https://colab.research.google.com/assets/colab-badge.svg\" alt=\"Open In Colab\"/></a>\n",
        "  </td>\n",
        "  <td>\n"
      ],
      "metadata": {
        "id": "d2-ayhpfRahd"
      }
    },
    {
      "cell_type": "markdown",
      "metadata": {
        "id": "HON0shicXr0F"
      },
      "source": [
        "# Introducción a Python"
      ]
    },
    {
      "cell_type": "markdown",
      "source": [
        "\n",
        "![alt text](https://www.python.org/static/community_logos/python-logo-master-v3-TM.png)\n",
        "\n"
      ],
      "metadata": {
        "id": "awqVr1_KRThs"
      }
    },
    {
      "cell_type": "markdown",
      "source": [
        "Este notebook te introducirá conceptos básicos del lenguaje de programación de Python. "
      ],
      "metadata": {
        "id": "4sP-kbtURMHh"
      }
    },
    {
      "cell_type": "markdown",
      "metadata": {
        "id": "buQrZ4_oXr0S"
      },
      "source": [
        "# 1. Elementos básicos del lenguaje"
      ]
    },
    {
      "cell_type": "markdown",
      "metadata": {
        "id": "LrhUnTxRXr0V"
      },
      "source": [
        "[IPython notebooks](https://ipython.org/) (como [Jupyter](https://jupyter.org/) y [Google Colab](https://colab.research.google.com/?hl=es)) ofrece una herramienta de ejecución interactiva con la cual es posible crear código utilizando .\n",
        "\n",
        " En los siguiente ejemplos, se usa a modo de calculadora:"
      ]
    },
    {
      "cell_type": "code",
      "metadata": {
        "id": "BmAf7SiGXr0b",
        "colab": {
          "base_uri": "https://localhost:8080/"
        },
        "outputId": "3a048059-2195-4d1a-e1b3-e69605a1a56a"
      },
      "source": [
        "2 + 4 - 5"
      ],
      "execution_count": 1,
      "outputs": [
        {
          "output_type": "execute_result",
          "data": {
            "text/plain": [
              "1"
            ]
          },
          "metadata": {},
          "execution_count": 1
        }
      ]
    },
    {
      "cell_type": "code",
      "metadata": {
        "id": "FcZ7Ae8pXr0r",
        "colab": {
          "base_uri": "https://localhost:8080/"
        },
        "outputId": "fce70174-f86b-411e-8395-9445000ba174"
      },
      "source": [
        "2.3 + 8    # el separador decimal se representa como un punto en Python"
      ],
      "execution_count": 2,
      "outputs": [
        {
          "output_type": "execute_result",
          "data": {
            "text/plain": [
              "10.3"
            ]
          },
          "metadata": {},
          "execution_count": 2
        }
      ]
    },
    {
      "cell_type": "markdown",
      "source": [
        "En los notebooks, el resultado de la última línea de código en un \"code chunk\" siempre se muestra si no es guardada en una variable. Si quieres imprimir el resultado de una línea de código especifica, tienes que usar la función `print()`\n",
        "\n"
      ],
      "metadata": {
        "id": "hKDiKTkPSncN"
      }
    },
    {
      "cell_type": "code",
      "source": [
        "5+5\n",
        "10+2\n",
        "print(15+5)"
      ],
      "metadata": {
        "colab": {
          "base_uri": "https://localhost:8080/"
        },
        "id": "HoOK8YNKShTg",
        "outputId": "1ad45507-956b-471c-8611-5d7ff938242e"
      },
      "execution_count": 4,
      "outputs": [
        {
          "output_type": "stream",
          "name": "stdout",
          "text": [
            "20\n"
          ]
        }
      ]
    },
    {
      "cell_type": "markdown",
      "source": [
        "**Actividad**\n",
        "\n",
        "Modifica el siguiente código para que los números 10, 20 y 30 sean imprimidos asi:\n",
        "\n",
        "```\n",
        "10\n",
        "20\n",
        "50\n",
        "```"
      ],
      "metadata": {
        "id": "nMrzasgyS6jH"
      }
    },
    {
      "cell_type": "code",
      "source": [
        "5+5\n",
        "10+10\n",
        "20+30"
      ],
      "metadata": {
        "id": "lNKl_P38ToSa"
      },
      "execution_count": null,
      "outputs": []
    },
    {
      "cell_type": "markdown",
      "source": [
        "## 1.1.Comentarios\n",
        "En Python comienzan con el símbolo `#`, de forma que todo lo que va desde __#__ hasta el final de la línea es ignorado y no afecta para al programa. Por ejemplo:"
      ],
      "metadata": {
        "id": "lrW5uMkJw1tX"
      }
    },
    {
      "cell_type": "code",
      "source": [
        "# 5+10 el igual a 15\n",
        "5+10"
      ],
      "metadata": {
        "colab": {
          "base_uri": "https://localhost:8080/"
        },
        "id": "g2UXrdmfw6QB",
        "outputId": "e91e9469-409c-4093-8002-f463d41625b2"
      },
      "execution_count": 78,
      "outputs": [
        {
          "output_type": "execute_result",
          "data": {
            "text/plain": [
              "15"
            ]
          },
          "metadata": {},
          "execution_count": 78
        }
      ]
    },
    {
      "cell_type": "markdown",
      "source": [
        "En el ejemplo anterior el comentario aparece como una línea completa, pero también puede ponerse comentarios al final de una línea. Por ejemplo:"
      ],
      "metadata": {
        "id": "qFuH6zy6w6gS"
      }
    },
    {
      "cell_type": "code",
      "source": [
        "5+10 # 5+10 el igual a 15"
      ],
      "metadata": {
        "colab": {
          "base_uri": "https://localhost:8080/"
        },
        "id": "JKTDrj5ew691",
        "outputId": "7744645a-fb1f-4b80-e0be-ab1747f7abd4"
      },
      "execution_count": 79,
      "outputs": [
        {
          "output_type": "execute_result",
          "data": {
            "text/plain": [
              "15"
            ]
          },
          "metadata": {},
          "execution_count": 79
        }
      ]
    },
    {
      "cell_type": "markdown",
      "metadata": {
        "id": "yhnKnSnOXr00"
      },
      "source": [
        "## 1.2.Variables\n",
        "Una __variable__ es un nombre que referencia un valor. Por ejemplo:"
      ]
    },
    {
      "cell_type": "code",
      "metadata": {
        "id": "MN9ejjnhXr03"
      },
      "source": [
        "titulo=\"Taller de Python\"\n",
        "\n",
        "pi=3.1416\n",
        "radio=5\n",
        "area= pi*(radio**2)"
      ],
      "execution_count": 66,
      "outputs": []
    },
    {
      "cell_type": "markdown",
      "metadata": {
        "id": "BArvED4XXr1C"
      },
      "source": [
        "Una __sentencia de asignación__ crea variables nuevas y las asocia valores. Por ejemplo:"
      ]
    },
    {
      "cell_type": "code",
      "metadata": {
        "id": "SEX4VudaXr1F"
      },
      "source": [
        "mensaje=\"Esto es un mensaje de prueba\"\n",
        "n=17\n",
        "pi=3.1416"
      ],
      "execution_count": 65,
      "outputs": []
    },
    {
      "cell_type": "markdown",
      "metadata": {
        "id": "JsYmZvx7Xr1P"
      },
      "source": [
        "Para mostrar el valor de una variable, se puede usar la función/método `print()`. Por ejemplo:"
      ]
    },
    {
      "cell_type": "code",
      "metadata": {
        "id": "2YAgHZAAXr1R",
        "colab": {
          "base_uri": "https://localhost:8080/"
        },
        "outputId": "291beab4-95cc-48d4-8098-e8aeb25538b7"
      },
      "source": [
        "print(n) #17\n",
        "print(pi) # 3.1415926535897931"
      ],
      "execution_count": 9,
      "outputs": [
        {
          "output_type": "stream",
          "name": "stdout",
          "text": [
            "17\n",
            "3.141592653589793\n"
          ]
        }
      ]
    },
    {
      "cell_type": "markdown",
      "metadata": {
        "id": "VycCDlc3Xr1Y"
      },
      "source": [
        "Las variables son de un tipo, que coincide con el tipo del valor que referencian. El método `type()` indica el tipo de una variable. Por ejemplo: "
      ]
    },
    {
      "cell_type": "markdown",
      "metadata": {
        "id": "Njy0H2FcXr14"
      },
      "source": [
        "Algunos de los tipos más usados son:\n",
        "*\tint :enteros\n",
        "*\tfloat :números reales\n",
        "*\tbool :valores booleanos: cierto y falso\n",
        "*\tstr :cadenas de caracteres\n",
        "\n"
      ]
    },
    {
      "cell_type": "code",
      "metadata": {
        "scrolled": true,
        "id": "D1tyyvSsXr1b",
        "colab": {
          "base_uri": "https://localhost:8080/"
        },
        "outputId": "d067a1d3-27a3-45e1-cb13-d8cc83bf2a8d"
      },
      "source": [
        "type(mensaje) #str"
      ],
      "execution_count": 10,
      "outputs": [
        {
          "output_type": "execute_result",
          "data": {
            "text/plain": [
              "str"
            ]
          },
          "metadata": {},
          "execution_count": 10
        }
      ]
    },
    {
      "cell_type": "code",
      "metadata": {
        "id": "z_HujGP0Xr1n",
        "colab": {
          "base_uri": "https://localhost:8080/"
        },
        "outputId": "6dafbba6-5a4d-41da-e3dc-2c6e6e1570c0"
      },
      "source": [
        "type(n) #int"
      ],
      "execution_count": 11,
      "outputs": [
        {
          "output_type": "execute_result",
          "data": {
            "text/plain": [
              "int"
            ]
          },
          "metadata": {},
          "execution_count": 11
        }
      ]
    },
    {
      "cell_type": "code",
      "metadata": {
        "id": "AYbk2Z6SXr1v",
        "colab": {
          "base_uri": "https://localhost:8080/"
        },
        "outputId": "99bfcacf-8faa-47ed-d978-843a37ebbc4e"
      },
      "source": [
        "type(pi) #float"
      ],
      "execution_count": 12,
      "outputs": [
        {
          "output_type": "execute_result",
          "data": {
            "text/plain": [
              "float"
            ]
          },
          "metadata": {},
          "execution_count": 12
        }
      ]
    },
    {
      "cell_type": "markdown",
      "metadata": {
        "id": "fViHrI0fXr16"
      },
      "source": [
        "Existen unas reglas de construcción de los nombres de las variables:\n",
        "*\tPueden ser arbitrariamente largos.\n",
        "*\tPueden contener tanto letras como números.\n",
        "*\tDeben empezar con letras.\n",
        "*\tPueden aparecer subrayados para unir múltiples palabras.\n",
        "*\tNo pueden ser palabras reservadas de Python."
      ]
    },
    {
      "cell_type": "markdown",
      "metadata": {
        "id": "91HhuBLkXr19"
      },
      "source": [
        "Uno de los usos habituales de las sentencia de __asignación__ consiste en realizar una actualización sobre una variable en la cual el valor nuevo de esa variable depende del antiguo: x = x+1. Esto quiere decir `toma el valor actual de x, añádele 1, y luego actualiza x con el nuevo valor`. En el siguiente ejemplo se intercambian los valores dos variables x e y."
      ]
    },
    {
      "cell_type": "code",
      "metadata": {
        "id": "s8exiFBEXr2B",
        "colab": {
          "base_uri": "https://localhost:8080/"
        },
        "outputId": "718b9892-74f5-4199-a928-7287da9b382c"
      },
      "source": [
        "x=3\n",
        "x= x + 1\n",
        "print (\"x =\", x) # x=4"
      ],
      "execution_count": 67,
      "outputs": [
        {
          "output_type": "stream",
          "name": "stdout",
          "text": [
            "x = 4\n"
          ]
        }
      ]
    },
    {
      "cell_type": "markdown",
      "source": [
        "**Actividad**\n",
        "\n",
        "Crea una variable llamada `nombre` y gurda tu nombre en esa variable.\n"
      ],
      "metadata": {
        "id": "ZfFx04tzYSTj"
      }
    },
    {
      "cell_type": "code",
      "source": [
        "#Recuerda que para asignar una cadena de caracteres, el texto tiene que estar entre comillas\n"
      ],
      "metadata": {
        "id": "M44s5-CkYbcl"
      },
      "execution_count": null,
      "outputs": []
    },
    {
      "cell_type": "code",
      "source": [
        "print(nombre)"
      ],
      "metadata": {
        "id": "99FjNWfdYbyZ"
      },
      "execution_count": null,
      "outputs": []
    },
    {
      "cell_type": "markdown",
      "metadata": {
        "id": "L2DY1xnAXr2T"
      },
      "source": [
        "Observar:\n",
        "* Si se intenta actualizar una variable que no existe, se obtiene un error, ya que Python evalúa el lado derecho antes de asignar el valor a x.\n",
        "* Antes de poder actualizar una variable, se debe inicializar mediante una asignación. "
      ]
    },
    {
      "cell_type": "markdown",
      "metadata": {
        "id": "Zg1wkutLXr2d"
      },
      "source": [
        "## 1.3. Palabras reservadas\n",
        "Al crear tus propias variables, ten en cuenta de no utilizar palabras reservadas como nombres de tus variables. Python reserva 31 palabras claves para su propio uso:"
      ]
    },
    {
      "cell_type": "code",
      "metadata": {
        "id": "lZ9fcNo7Xr2g",
        "colab": {
          "base_uri": "https://localhost:8080/"
        },
        "outputId": "b255d0cb-edcd-4bd0-bd71-34275f7f55c0"
      },
      "source": [
        "import keyword\n",
        "print(keyword.kwlist)"
      ],
      "execution_count": 16,
      "outputs": [
        {
          "output_type": "stream",
          "name": "stdout",
          "text": [
            "['False', 'None', 'True', 'and', 'as', 'assert', 'async', 'await', 'break', 'class', 'continue', 'def', 'del', 'elif', 'else', 'except', 'finally', 'for', 'from', 'global', 'if', 'import', 'in', 'is', 'lambda', 'nonlocal', 'not', 'or', 'pass', 'raise', 'return', 'try', 'while', 'with', 'yield']\n"
          ]
        }
      ]
    },
    {
      "cell_type": "markdown",
      "metadata": {
        "id": "MPSfDtr-Xr2n"
      },
      "source": [
        "## 1.4.Operadores\n",
        "Los operadores son símbolos especiales que representan cálculos, como la suma o la multiplicación. Los valores a los cuales se aplican esos operadores reciben el nombre de operandos. Los principales operadores sobre los tipos int y float son:\n",
        "*\ti `+` j suma\n",
        "*\ti `-` j resta\n",
        "*\ti `*` j multiplicación\n",
        "*\ti `/` j división de dos números. \n",
        "*\ti `**` j que representa i elevado a la potencia j\n",
        "*\ti `==` j que representa i igual que j\n",
        "*\ti `!=` j que representa i distinto que j\n",
        "*\ti `>` j que representa i mayor que j, y de forma similar: `>=`, `<`, `<=`\n"
      ]
    },
    {
      "cell_type": "code",
      "source": [
        "5+5"
      ],
      "metadata": {
        "colab": {
          "base_uri": "https://localhost:8080/"
        },
        "id": "Bt91LUdDZvzO",
        "outputId": "e6981157-8305-46b6-fc8e-c611e57ed4c3"
      },
      "execution_count": 28,
      "outputs": [
        {
          "output_type": "execute_result",
          "data": {
            "text/plain": [
              "10"
            ]
          },
          "metadata": {},
          "execution_count": 28
        }
      ]
    },
    {
      "cell_type": "code",
      "source": [
        "10-5"
      ],
      "metadata": {
        "colab": {
          "base_uri": "https://localhost:8080/"
        },
        "id": "BqI0CycwZydj",
        "outputId": "355fa304-2d00-4bd6-c151-d8afb3587822"
      },
      "execution_count": 29,
      "outputs": [
        {
          "output_type": "execute_result",
          "data": {
            "text/plain": [
              "5"
            ]
          },
          "metadata": {},
          "execution_count": 29
        }
      ]
    },
    {
      "cell_type": "code",
      "source": [
        "5*10"
      ],
      "metadata": {
        "colab": {
          "base_uri": "https://localhost:8080/"
        },
        "id": "6RMV5scWZ0mH",
        "outputId": "6a736cc0-ea23-4a28-9343-5744c5aed26f"
      },
      "execution_count": 30,
      "outputs": [
        {
          "output_type": "execute_result",
          "data": {
            "text/plain": [
              "50"
            ]
          },
          "metadata": {},
          "execution_count": 30
        }
      ]
    },
    {
      "cell_type": "code",
      "source": [
        "10/5"
      ],
      "metadata": {
        "colab": {
          "base_uri": "https://localhost:8080/"
        },
        "id": "tSGrdTynZ3Av",
        "outputId": "6ffb6717-ad23-48d4-e9c2-99966b1aad11"
      },
      "execution_count": 31,
      "outputs": [
        {
          "output_type": "execute_result",
          "data": {
            "text/plain": [
              "2.0"
            ]
          },
          "metadata": {},
          "execution_count": 31
        }
      ]
    },
    {
      "cell_type": "code",
      "source": [
        "3**2"
      ],
      "metadata": {
        "colab": {
          "base_uri": "https://localhost:8080/"
        },
        "id": "InxUS5KEZ44X",
        "outputId": "f98595b9-5b67-4782-8af3-0121b9ec1806"
      },
      "execution_count": 33,
      "outputs": [
        {
          "output_type": "execute_result",
          "data": {
            "text/plain": [
              "9"
            ]
          },
          "metadata": {},
          "execution_count": 33
        }
      ]
    },
    {
      "cell_type": "code",
      "source": [
        "10==5"
      ],
      "metadata": {
        "colab": {
          "base_uri": "https://localhost:8080/"
        },
        "id": "HBAfQMizZ9Dn",
        "outputId": "4c2afa9a-defc-419f-96d0-2a0e98a0cf70"
      },
      "execution_count": 34,
      "outputs": [
        {
          "output_type": "execute_result",
          "data": {
            "text/plain": [
              "False"
            ]
          },
          "metadata": {},
          "execution_count": 34
        }
      ]
    },
    {
      "cell_type": "code",
      "source": [
        "10>=5"
      ],
      "metadata": {
        "colab": {
          "base_uri": "https://localhost:8080/"
        },
        "id": "poipo_fNZ_HU",
        "outputId": "c1295d61-1b33-4587-8256-518dcbe75ca3"
      },
      "execution_count": 35,
      "outputs": [
        {
          "output_type": "execute_result",
          "data": {
            "text/plain": [
              "True"
            ]
          },
          "metadata": {},
          "execution_count": 35
        }
      ]
    },
    {
      "cell_type": "markdown",
      "metadata": {
        "id": "gCtX1hqIXr3u"
      },
      "source": [
        "## 1.5.Expresiones\n",
        "* Una expresión es una combinación de valores, variables y operadores. \n",
        "\n",
        "* Un valor por sí mismo se considera una expresión, y también lo es una variable. \n",
        "\n",
        "* Las expresiones tienen un tipo. Así por ejemplo `6 + 7` es una expresión que representa un entero. Cuando en una expresión aparece más de un operador, el orden de evaluación depende de las reglas de precedencia. Para los operadores matemáticos, Python sigue las convenciones matemáticas:\n",
        "*\tEl orden de los operadores es: paréntesis, exponenciales, multiplicación/división, suma/resta. \n",
        "  \n",
        "  \n",
        "Por ejemplo:\n"
      ]
    },
    {
      "cell_type": "code",
      "metadata": {
        "id": "Bsx9slk0Xr3x",
        "colab": {
          "base_uri": "https://localhost:8080/"
        },
        "outputId": "1f85265f-3b16-49e0-bced-3b4519538df2"
      },
      "source": [
        "4**1 +1    # 5"
      ],
      "execution_count": 36,
      "outputs": [
        {
          "output_type": "execute_result",
          "data": {
            "text/plain": [
              "5"
            ]
          },
          "metadata": {},
          "execution_count": 36
        }
      ]
    },
    {
      "cell_type": "code",
      "metadata": {
        "id": "68oVTW7XXr32",
        "colab": {
          "base_uri": "https://localhost:8080/"
        },
        "outputId": "ec6a873a-3737-4452-893c-944209f725b3"
      },
      "source": [
        "6*1**2     # 6"
      ],
      "execution_count": 37,
      "outputs": [
        {
          "output_type": "execute_result",
          "data": {
            "text/plain": [
              "6"
            ]
          },
          "metadata": {},
          "execution_count": 37
        }
      ]
    },
    {
      "cell_type": "code",
      "metadata": {
        "id": "Pu3qDtURXr36",
        "colab": {
          "base_uri": "https://localhost:8080/"
        },
        "outputId": "122a36fd-382e-4930-d0a8-6eeed4d35a1d"
      },
      "source": [
        "(-1)**3*3 # -3"
      ],
      "execution_count": 38,
      "outputs": [
        {
          "output_type": "execute_result",
          "data": {
            "text/plain": [
              "-3"
            ]
          },
          "metadata": {},
          "execution_count": 38
        }
      ]
    },
    {
      "cell_type": "markdown",
      "source": [
        "*\tCuando existe la misma precedencia, se evalúa de izquierda a derecha"
      ],
      "metadata": {
        "id": "G9yBbz7saXeB"
      }
    },
    {
      "cell_type": "code",
      "metadata": {
        "id": "3PHZfkYbXr4P",
        "colab": {
          "base_uri": "https://localhost:8080/"
        },
        "outputId": "bcdba0dd-db20-4e54-b2fc-d6ef7c4e5d8b"
      },
      "source": [
        "6*3/2        # 9"
      ],
      "execution_count": 44,
      "outputs": [
        {
          "output_type": "execute_result",
          "data": {
            "text/plain": [
              "9.0"
            ]
          },
          "metadata": {},
          "execution_count": 44
        }
      ]
    },
    {
      "cell_type": "markdown",
      "source": [
        "**Actividad**\n",
        "\n",
        "En una variable llamada `resultado` guarda el valor de 10 elevado a la potencial de 1 dividido por 2\n"
      ],
      "metadata": {
        "id": "FSOpcoiev8qh"
      }
    },
    {
      "cell_type": "code",
      "source": [
        "#Mira arriba para ver los símbolos de los diferentes operadores\n",
        "\n"
      ],
      "metadata": {
        "id": "Kl-rC6l5v9T9"
      },
      "execution_count": 75,
      "outputs": []
    },
    {
      "cell_type": "code",
      "source": [
        "print(resultado)"
      ],
      "metadata": {
        "colab": {
          "base_uri": "https://localhost:8080/"
        },
        "id": "ENgLhB52wAl6",
        "outputId": "c302c7e0-b0e9-470d-b3dd-54f275516dd3"
      },
      "execution_count": 76,
      "outputs": [
        {
          "output_type": "stream",
          "name": "stdout",
          "text": [
            "5.0\n"
          ]
        }
      ]
    },
    {
      "cell_type": "markdown",
      "source": [
        "El resultado es:\n",
        "\n",
        "```\n",
        "5.0\n",
        "```"
      ],
      "metadata": {
        "id": "vNs2Blz6wXKa"
      }
    },
    {
      "cell_type": "markdown",
      "metadata": {
        "id": "UqS6TyWTXr43"
      },
      "source": [
        "## 1.6.Expresiones booleanas\n",
        "Una expresión booleana es aquella que puede ser verdadera (`True`) o falsa (`False`). True y False son valores especiales que pertenecen al tipo bool (booleano). Por ejemplo:"
      ]
    },
    {
      "cell_type": "code",
      "metadata": {
        "id": "e-1DARa1Xr46",
        "colab": {
          "base_uri": "https://localhost:8080/"
        },
        "outputId": "a30237a2-9d37-4483-a5af-96b7bfa51c61"
      },
      "source": [
        "type (True) # bool"
      ],
      "execution_count": 48,
      "outputs": [
        {
          "output_type": "execute_result",
          "data": {
            "text/plain": [
              "bool"
            ]
          },
          "metadata": {},
          "execution_count": 48
        }
      ]
    },
    {
      "cell_type": "code",
      "metadata": {
        "id": "_ESognf-Xr4-",
        "colab": {
          "base_uri": "https://localhost:8080/"
        },
        "outputId": "4d1637e9-56b9-4c27-c8dd-2c81f427ffc8"
      },
      "source": [
        "type (False) # bool"
      ],
      "execution_count": 49,
      "outputs": [
        {
          "output_type": "execute_result",
          "data": {
            "text/plain": [
              "bool"
            ]
          },
          "metadata": {},
          "execution_count": 49
        }
      ]
    },
    {
      "cell_type": "markdown",
      "metadata": {
        "id": "1kP0pK0qXr5C"
      },
      "source": [
        "Los ejemplos siguientes usan el operador `==`, que compara dos operandos y devuelve `True` si son iguales y `False` en caso contrario."
      ]
    },
    {
      "cell_type": "code",
      "metadata": {
        "id": "ACPIvA2UXr5E"
      },
      "source": [
        "5==5 # True"
      ],
      "execution_count": null,
      "outputs": []
    },
    {
      "cell_type": "code",
      "metadata": {
        "id": "fnQb2NTeXr5L"
      },
      "source": [
        "5==6 # False"
      ],
      "execution_count": null,
      "outputs": []
    },
    {
      "cell_type": "markdown",
      "metadata": {
        "id": "eI_q9gxuXr5S"
      },
      "source": [
        "Los principales operadores de comparación son:\n",
        "* x `==` y      # x es igual que y\n",
        "* x `!=` y       # x es distinto de y\n",
        "* x `>` y        # x es mayor que y\n",
        "* x `<` y        # x es menor que y\n",
        "* x `>=` y      # x es mayor o igual que y\n",
        "* x `<=` y      # x es menor o igual que y\n"
      ]
    },
    {
      "cell_type": "markdown",
      "metadata": {
        "id": "HG5lYsNTXr5T"
      },
      "source": [
        "## 1.7.Operaciones lógicas\n",
        "Existen tres operadores lógicos que se usan en las expresiones condicionales:\n",
        "* `not` representa la negación.\n",
        "* `and` cierto si las dos expresiones que relaciona son ciertas, y falso en caso contrario.\n",
        "* `or` falso si las dos expresiones que relaciona son falsas, y cierto en caso contrario.\n",
        "\n",
        "Por ejemplo:\n",
        "* `x >0 and x <10` es verdadero sólo cuando x es mayor que 0 y menor que 10.\n",
        "* `not (x>y)` es verdadero si x es menor o igual que y.\n",
        "\n",
        " Por ejemplo:\n"
      ]
    },
    {
      "cell_type": "code",
      "metadata": {
        "id": "BEpamQVBXr5U",
        "colab": {
          "base_uri": "https://localhost:8080/"
        },
        "outputId": "3b45a65b-f0ea-4c3e-cc24-176e2be060cd"
      },
      "source": [
        "x=5\n",
        "x>0 and x<10"
      ],
      "execution_count": 51,
      "outputs": [
        {
          "output_type": "execute_result",
          "data": {
            "text/plain": [
              "True"
            ]
          },
          "metadata": {},
          "execution_count": 51
        }
      ]
    },
    {
      "cell_type": "code",
      "source": [
        "not(x>0 and x<10)"
      ],
      "metadata": {
        "colab": {
          "base_uri": "https://localhost:8080/"
        },
        "id": "3SF4lM7EbTVm",
        "outputId": "1a81df5c-ed6b-44d5-dfc1-d3a7b64d5d63"
      },
      "execution_count": 52,
      "outputs": [
        {
          "output_type": "execute_result",
          "data": {
            "text/plain": [
              "False"
            ]
          },
          "metadata": {},
          "execution_count": 52
        }
      ]
    },
    {
      "cell_type": "markdown",
      "metadata": {
        "id": "a4cobCoBXr5c"
      },
      "source": [
        "# 2. Estructuras de control"
      ]
    },
    {
      "cell_type": "markdown",
      "metadata": {
        "id": "u7zzB8_aXr5d"
      },
      "source": [
        "## 2.1.Condicionales\n",
        "Las expresiones condicionales facilitan la codificación de estructuras que bifurcan la ejecución del código en varias ramas o caminos de ejecución. Existen varias formas.\n",
        "La primera forma es la siguiente:\n",
        "\n",
        "    if <expresión booleana>:         \n",
        "            bloque de código \n",
        "\n",
        "Por ejemplo:"
      ]
    },
    {
      "cell_type": "code",
      "metadata": {
        "id": "pbqKEr0XXr5d",
        "colab": {
          "base_uri": "https://localhost:8080/"
        },
        "outputId": "a20ddc91-1175-40b7-b1bb-3d7f7c10d0f9"
      },
      "source": [
        "x=5\n",
        "if  x>0:\n",
        "     print (\"x es positivo\")"
      ],
      "execution_count": 54,
      "outputs": [
        {
          "output_type": "stream",
          "name": "stdout",
          "text": [
            "x es positivo\n"
          ]
        }
      ]
    },
    {
      "cell_type": "markdown",
      "metadata": {
        "id": "dZ_FMVPbXr5i"
      },
      "source": [
        "Observar:\n",
        "* La expresión booleana después de la sentencia `if` recibe el nombre de condición. La sentencia `if` se finaliza con un carácter de dos puntos __(:)__ y la(s) línea(s) que van detrás de la sentencia `if` van indentadas/sangria. Este código se denomina __bloque__. \n",
        "* Si la condición lógica es verdadera, la sentencia indentada será ejecutada. Si la condición es falsa, la sentencia indentada será omitida.\n",
        "* No hay límite en el número de sentencias que pueden aparecer en el cuerpo, pero debe haber al menos una. \n",
        "\n",
        " \n"
      ]
    },
    {
      "cell_type": "markdown",
      "source": [
        "\n",
        "La segunda forma de la sentencia __if__ es la ejecución alternativa, en la cual existen dos posibilidades y la condición determina cuál de ellas sería ejecutada:\n",
        "\n",
        "    if <expresión booleana>:\n",
        "        bloque de código1\n",
        "    else:\n",
        "        bloque de código2\n",
        "\n",
        "\n",
        "Por ejemplo:"
      ],
      "metadata": {
        "id": "AWlBuDdSeEH6"
      }
    },
    {
      "cell_type": "code",
      "metadata": {
        "id": "-SgQYifQXr5k",
        "colab": {
          "base_uri": "https://localhost:8080/"
        },
        "outputId": "79b0bf8d-4c68-497e-bdf0-877d467ff5d3"
      },
      "source": [
        "x=-5\n",
        "if x>0:\n",
        "  print (\"x es positivo\")\n",
        "else:\n",
        "  print (\"x es negativo\")"
      ],
      "execution_count": 55,
      "outputs": [
        {
          "output_type": "stream",
          "name": "stdout",
          "text": [
            "x es negativo\n"
          ]
        }
      ]
    },
    {
      "cell_type": "markdown",
      "metadata": {
        "id": "ZxaBzll_Xr5n"
      },
      "source": [
        "Dado que la condición debe ser obligatoriamente verdadera o falsa, solamente una de las alternativas será ejecutada. Las alternativas reciben el nombre de ramas, dado que se trata de ramificaciones en el flujo de la ejecución.\n"
      ]
    },
    {
      "cell_type": "markdown",
      "source": [
        "\n",
        "La tercera forma de la sentencia `if` es el condicional encadenado que permite que haya más de dos posibilidades o ramas:\n",
        "\n",
        "    if <expresión booleana 1>:\n",
        "        bloque de código 1\n",
        "    elif <expresión booleana 2>:\n",
        "        bloque de código 2\n",
        "    else:\n",
        "        bloque ejecutado por defecto\n",
        "\n",
        "Por ejemplo:"
      ],
      "metadata": {
        "id": "fqXRFBQHeUIS"
      }
    },
    {
      "cell_type": "code",
      "metadata": {
        "id": "25FefH4MXr5o"
      },
      "source": [
        "x=1\n",
        "y=2\n",
        "z=3\n",
        "if x < y and x < z:\n",
        "   print (\"x es el más pequeño\")\n",
        "elif y < z:\n",
        "   print (\"y es el más pequeño\")\n",
        "else:\n",
        "   print (\"z es el más pequeño\")"
      ],
      "execution_count": null,
      "outputs": []
    },
    {
      "cell_type": "markdown",
      "metadata": {
        "id": "BkiW8OuLXr5s"
      },
      "source": [
        "Observar:\n",
        "* No hay un límite para el número de sentencias elif. Si hay una clausula else, debe ir al final, pero tampoco es obligatorio que ésta exista.\n",
        "* Cada condición es comprobada en orden. Si la primera es falsa, se comprueba la siguiente y así con las demás. Si una de ellas es verdadera, se ejecuta la rama correspondiente, y la sentencia termina. Incluso si hay más de una condición que sea verdadera, sólo se ejecuta la primera que se encuentra.\n"
      ]
    },
    {
      "cell_type": "markdown",
      "metadata": {
        "id": "-d1cXEHgXr5z"
      },
      "source": [
        "## 2.2.Bucles"
      ]
    },
    {
      "cell_type": "markdown",
      "metadata": {
        "id": "FXjV14FuXr5z"
      },
      "source": [
        "Los bucles permiten la repetición de acciones y generalmente se construyen así:\n",
        "* Se inicializan una o más variables antes de que el bucle comience\n",
        "* Se realiza alguna operación con cada elemento en el cuerpo del bucle, posiblemente cambiando las variables dentro de ese cuerpo.\n",
        "* Se revisan las variables resultantes cuando el bucle se completa\n",
        "El primer tipo de bucle es el `while`, que tiene la siguiente estructura: \n",
        "\n",
        "      while (<expresión booleana>): \n",
        "            código\n",
        "\n",
        "\n",
        "Por ejemplo:"
      ]
    },
    {
      "cell_type": "code",
      "metadata": {
        "id": "JcT90PjwXr51",
        "colab": {
          "base_uri": "https://localhost:8080/"
        },
        "outputId": "3d8b2855-19a9-4764-b6f8-1ba235aaf7ac"
      },
      "source": [
        "x=3\n",
        "ans=0\n",
        "bucle=x\n",
        "while (bucle !=0):\n",
        "   ans=ans+x\n",
        "   bucle= bucle-1\n",
        "   #print(bucle)\n",
        "\n",
        "print (str(x) + \"*\" + str(x) + \"=\" + str(ans))\n"
      ],
      "execution_count": 57,
      "outputs": [
        {
          "output_type": "stream",
          "name": "stdout",
          "text": [
            "2\n",
            "1\n",
            "0\n",
            "3*3=9\n"
          ]
        }
      ]
    },
    {
      "cell_type": "markdown",
      "metadata": {
        "id": "3rbQB2LHXr56"
      },
      "source": [
        "Observar que:\n",
        "* El bucle nunca se ejecuta cuando x=0 y nunca terminará si empieza con x<0.\n",
        "* Cada vez que se ejecuta el cuerpo del bucle se dice que se realiza una __iteración__. \n",
        "* El cuerpo del bucle debe cambiar el valor de una o más variables, de modo que la condición pueda en algún momento evaluarse como falsa y el bucle termine. La variable que cambia cada vez que el bucle se ejecuta y controla cuándo termina éste, recibe el nombre de variable de iteración.  Si no hay variable de iteración, el bucle se repetirá para siempre, resultando así un bucle infinito. \n"
      ]
    },
    {
      "cell_type": "markdown",
      "metadata": {
        "id": "3aEiLsUSXr6I"
      },
      "source": [
        "\n",
        "El siguiente tipo de bucle es el `for`, que tiene la siguiente estructura:\n",
        "\n",
        "       for <variable> in <secuencia>: \n",
        "           código\n",
        "\n",
        "Por ejemplo:"
      ]
    },
    {
      "cell_type": "code",
      "metadata": {
        "id": "xV45SP3WXr6J",
        "colab": {
          "base_uri": "https://localhost:8080/"
        },
        "outputId": "73675675-7b7e-4840-866c-4bcc9a97546a"
      },
      "source": [
        "for i in (1,2,3,4,5):\n",
        "    print (i)"
      ],
      "execution_count": 58,
      "outputs": [
        {
          "output_type": "stream",
          "name": "stdout",
          "text": [
            "1\n",
            "2\n",
            "3\n",
            "4\n",
            "5\n"
          ]
        }
      ]
    },
    {
      "cell_type": "markdown",
      "metadata": {
        "id": "vXvrKAucXr6N"
      },
      "source": [
        "El bucle `for` se repite a través de un conjunto conocido de elementos, de modo que ejecuta tantas iteraciones como elementos hay en el conjunto. \n",
        "\n",
        "Es útil utilizar la función `range` para crear una secuencia. Range puede tomar uno o dos valores:\n",
        "* Si toma dos valores, genera todos los enteros desde la primer entrada hasta la segunda entrada-1.Por ejemplo: range (2, 5) = (2, 3, 4).\n",
        "* Y si toma un sólo parámetro, entonces range(x) = range(0,x)\n",
        "\n",
        "Los bucles pueden estar anidados como por ejemplo:"
      ]
    },
    {
      "cell_type": "code",
      "metadata": {
        "id": "gnmfIzptXr6O",
        "colab": {
          "base_uri": "https://localhost:8080/"
        },
        "outputId": "d15ce189-9cbc-439e-a07d-ccb481ba9773"
      },
      "source": [
        "x=3\n",
        "for j in range(x):\n",
        "       print (j)"
      ],
      "execution_count": 61,
      "outputs": [
        {
          "output_type": "stream",
          "name": "stdout",
          "text": [
            "0\n",
            "1\n",
            "2\n"
          ]
        }
      ]
    },
    {
      "cell_type": "markdown",
      "source": [
        "**Actividad**\n",
        "\n",
        "Utilizando bucles y condicionales, crea un Código que imprima todos los números impares de 1 al  10\n"
      ],
      "metadata": {
        "id": "DM2-CovSoGNM"
      }
    },
    {
      "cell_type": "code",
      "source": [
        "##El operador de módulos `%` retorna el resto de la división entera por ende:\"\n",
        "# 1%2 es igual a 1  , 2%2 es igual a 0, 3%2 es igual a 1, 4%2 es igual a 0,....\n"
      ],
      "metadata": {
        "id": "wUEl4esToIiB"
      },
      "execution_count": null,
      "outputs": []
    },
    {
      "cell_type": "markdown",
      "metadata": {
        "id": "rAZGld1aXsAu"
      },
      "source": [
        "# Referencias\n",
        "\n",
        "* Introducción a la programación con Python 3: http://repositori.uji.es/xmlui/bitstream/handle/10234/102653/s93_impressora.pdf?sequence=2&isAllowed=y\n",
        "* Python para principiantes: http://librosweb.es/libro/python/\n",
        "* Tutorial de Python: http://docs.python.org.ar/tutorial/pdfs/TutorialPython2.pdf\n",
        "* Guía de aprendizaje de Python: http://es.tldp.org/Tutoriales/Python/tut.pdf\n",
        "\n"
      ]
    }
  ]
}